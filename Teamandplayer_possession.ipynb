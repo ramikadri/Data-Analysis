{
  "nbformat": 4,
  "nbformat_minor": 0,
  "metadata": {
    "colab": {
      "name": "Teamandplayer_possession.ipynb",
      "provenance": [],
      "authorship_tag": "ABX9TyOYz2Kt8qYt988X9AScyPvm",
      "include_colab_link": true
    },
    "kernelspec": {
      "name": "python3",
      "display_name": "Python 3"
    },
    "language_info": {
      "name": "python"
    }
  },
  "cells": [
    {
      "cell_type": "markdown",
      "metadata": {
        "id": "view-in-github",
        "colab_type": "text"
      },
      "source": [
        "<a href=\"https://colab.research.google.com/github/ramikadri/ramikadri/blob/main/Teamandplayer_possession.ipynb\" target=\"_parent\"><img src=\"https://colab.research.google.com/assets/colab-badge.svg\" alt=\"Open In Colab\"/></a>"
      ]
    },
    {
      "cell_type": "code",
      "metadata": {
        "colab": {
          "base_uri": "https://localhost:8080/"
        },
        "id": "90oqq26wBpH0",
        "outputId": "6b4dbbd7-cfa1-4a56-eb92-390e08a5e823"
      },
      "source": [
        "import pandas as pd\n",
        "import seaborn as sns\n",
        "import matplotlib.pyplot as plt\n",
        "import numpy as np\n",
        "\n",
        "# Import data\n",
        "table_html = pd.read_html(\"https://fbref.com/en/comps/22/possession/Major-League-Soccer-Stats\", header=1)\n",
        "#Squad possession data\n",
        "dfp= table_html[0]\n",
        "df_squad= dfp[['Squad','Touches']]\n",
        "#player possession data\n",
        "\n",
        "table_html1=pd.read_html(\"https://fbref.com/en/share/MrNlZ\",header=1)\n",
        "dfpp= table_html1[0] \n",
        "l= [0]\n",
        "for i in dfpp.index:\n",
        "  if  (i % 25 == 0 ):\n",
        "    l.append(i)\n",
        "\n",
        "dfpp= dfpp.drop(l)\n",
        "\n",
        "dfpp[\"Touches\"] = pd.to_numeric(dfpp['Touches'], errors='coerce')\n",
        "\n",
        "#is the player that has most touches in the MLS is from the team that has the most touches in MLS ?\n",
        "\n",
        "a=dfpp[dfpp['Touches']==dfpp['Touches'].max()]['Squad']\n",
        "b= df_squad[df_squad['Touches']==df_squad['Touches'].max()]['Squad']\n",
        "if (a.values == b.values):\n",
        "  print('yes')\n",
        "\n",
        "\n",
        "\n",
        "  \n"
      ],
      "execution_count": 50,
      "outputs": [
        {
          "output_type": "stream",
          "name": "stdout",
          "text": [
            "yes\n"
          ]
        }
      ]
    },
    {
      "cell_type": "code",
      "metadata": {
        "id": "lUR6cih1PVPJ"
      },
      "source": [
        ""
      ],
      "execution_count": null,
      "outputs": []
    }
  ]
}